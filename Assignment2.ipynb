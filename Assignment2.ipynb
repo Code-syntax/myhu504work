{
 "cells": [
  {
   "cell_type": "code",
   "execution_count": null,
   "metadata": {
    "collapsed": true
   },
   "outputs": [],
   "source": [
    "#name: convert_to_fahrenheit\n",
    "#expression: return(9.0 / 5.0 * celsius + 32, 'degrees Fahrenheit')\n",
    "#output statement: (32.0, 'degrees Fahrenheit')\n",
    "#variable assignment: convert_to_fahrenheit(0)"
   ]
  },
  {
   "cell_type": "code",
   "execution_count": null,
   "metadata": {
    "collapsed": true
   },
   "outputs": [],
   "source": [
    "#1.Requirements: Kim just came to the States from Korea. He felt so confused \n",
    "#about the measuring system in the States. He came to see me and asked me to help \n",
    "#him solve his problem that is the switch method between meter and foot.\n",
    "#2.Development: Meter to Foot converter program specifications: \n",
    "#Develop a conversion function which will convert from Feet to Meters. \n",
    "#The user will invoke the function or will be prompted to input the height in \n",
    "#feet to convert from feet to Meters. The output will then be displayed \n",
    "#in Meters.\n",
    "#3.Design: The user will input the height in feet then press enter, the weight is then \n",
    "#converted to meters using the following equation: input in feet/3.281 \n",
    "#and then the output is displayed as the converted height in meters."
   ]
  },
  {
   "cell_type": "code",
   "execution_count": 1,
   "metadata": {
    "collapsed": true
   },
   "outputs": [],
   "source": [
    "#4. Implemenetation\n",
    "def convert_to_meters(feet): return(feet/3.281, 'meters')"
   ]
  },
  {
   "cell_type": "code",
   "execution_count": 2,
   "metadata": {},
   "outputs": [
    {
     "data": {
      "text/plain": [
       "(0.30478512648582745, 'meters')"
      ]
     },
     "execution_count": 2,
     "metadata": {},
     "output_type": "execute_result"
    }
   ],
   "source": [
    "convert_to_meters(1)"
   ]
  },
  {
   "cell_type": "code",
   "execution_count": 3,
   "metadata": {},
   "outputs": [
    {
     "data": {
      "text/plain": [
       "(1.5239256324291375, 'meters')"
      ]
     },
     "execution_count": 3,
     "metadata": {},
     "output_type": "execute_result"
    }
   ],
   "source": [
    "convert_to_meters(5)"
   ]
  },
  {
   "cell_type": "code",
   "execution_count": null,
   "metadata": {
    "collapsed": true
   },
   "outputs": [],
   "source": []
  }
 ],
 "metadata": {
  "kernelspec": {
   "display_name": "Python 3",
   "language": "python",
   "name": "python3"
  },
  "language_info": {
   "codemirror_mode": {
    "name": "ipython",
    "version": 3
   },
   "file_extension": ".py",
   "mimetype": "text/x-python",
   "name": "python",
   "nbconvert_exporter": "python",
   "pygments_lexer": "ipython3",
   "version": "3.6.3"
  }
 },
 "nbformat": 4,
 "nbformat_minor": 2
}
