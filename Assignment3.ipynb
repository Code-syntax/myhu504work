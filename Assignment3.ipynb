{
 "cells": [
  {
   "cell_type": "code",
   "execution_count": 1,
   "metadata": {},
   "outputs": [
    {
     "name": "stdout",
     "output_type": "stream",
     "text": [
      "Minutes: 11\n",
      "Hours: 1\n",
      "Total seconds is  4260\n"
     ]
    }
   ],
   "source": [
    "minutes = int(input(\"Minutes: \"))\n",
    "hours = int(input(\"Hours: \"))\n",
    "seconds = minutes * 60 + hours * 3600\n",
    "print(\"Total seconds is \", seconds)"
   ]
  },
  {
   "cell_type": "code",
   "execution_count": 3,
   "metadata": {},
   "outputs": [
    {
     "name": "stdout",
     "output_type": "stream",
     "text": [
      "[  1   3   4  10  21  26  33  43  45  51  56  65 106]\n",
      "35.6923076923\n",
      "33.0\n"
     ]
    }
   ],
   "source": [
    "list = [26,1,43,21,33,106,45,4,10,3,51,56,65]\n",
    "import numpy as np\n",
    "print(np.sort(list))\n",
    "print(np.mean(list))\n",
    "print(np.median(list))"
   ]
  },
  {
   "cell_type": "code",
   "execution_count": null,
   "metadata": {
    "collapsed": true
   },
   "outputs": [],
   "source": []
  }
 ],
 "metadata": {
  "kernelspec": {
   "display_name": "Python 3",
   "language": "python",
   "name": "python3"
  },
  "language_info": {
   "codemirror_mode": {
    "name": "ipython",
    "version": 3
   },
   "file_extension": ".py",
   "mimetype": "text/x-python",
   "name": "python",
   "nbconvert_exporter": "python",
   "pygments_lexer": "ipython3",
   "version": "3.6.3"
  }
 },
 "nbformat": 4,
 "nbformat_minor": 2
}
