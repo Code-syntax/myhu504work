{
 "cells": [
  {
   "cell_type": "code",
   "execution_count": 14,
   "metadata": {},
   "outputs": [
    {
     "data": {
      "application/vnd.jupyter.widget-view+json": {
       "model_id": "d90ae0d9955c411aac005839dcfa1d50",
       "version_major": 2,
       "version_minor": 0
      },
      "text/plain": [
       "A Jupyter Widget"
      ]
     },
     "metadata": {},
     "output_type": "display_data"
    }
   ],
   "source": [
    "from mobilechelonian import Turtle\n",
    "t = Turtle()\n",
    "t.speed(10)\n",
    "#head\n",
    "def circle_object(radius,angle):\n",
    "    t.circle(radius,angle)\n",
    "circle_object(25,360)\n",
    "#body\n",
    "def rectangle_object(length,width):\n",
    "    for i in range(2):\n",
    "        t.forward(width)\n",
    "        t.right(90)\n",
    "        t.forward(length)\n",
    "        t.right(90)\n",
    "rectangle_object(length=100,width=50)\n",
    "t.right(180)\n",
    "def rectangle_object_2(length,width):\n",
    "    for i in range(2):\n",
    "        t.forward(width)\n",
    "        t.left(90)\n",
    "        t.forward(length)\n",
    "        t.left(90)\n",
    "rectangle_object_2(length=100,width=50)\n",
    "t.left(90)\n",
    "#buttons\n",
    "for j in range(4):\n",
    "    t.forward(20)\n",
    "    t.circle(5,360)\n",
    "#legs\n",
    "t.forward(20)\n",
    "t.right(90)\n",
    "t.forward(15)\n",
    "t.left(90)\n",
    "t.forward(80)\n",
    "t.right(90)\n",
    "t.forward(40)\n",
    "t.left(180)\n",
    "t.forward(40)\n",
    "t.left(90)\n",
    "t.forward(80)\n",
    "t.right(90)\n",
    "t.forward(30)\n",
    "t.right(90)\n",
    "t.forward(80)\n",
    "t.left(90)\n",
    "t.forward(40)\n",
    "t.right(180)\n",
    "t.forward(40)\n",
    "t.right(90)\n",
    "t.forward(80)\n",
    "#arms\n",
    "t.right(90)\n",
    "t.forward(35)\n",
    "t.left(90)\n",
    "t.forward(80)\n",
    "t.right(90)\n",
    "t.forward(60)\n",
    "t.left(180)\n",
    "t.forward(60)\n",
    "t.right(90)\n",
    "t.forward(20)\n",
    "t.left(90)\n",
    "t.forward(100)\n",
    "t.left(90)\n",
    "t.forward(20)\n",
    "t.right(90)\n",
    "t.forward(60)"
   ]
  },
  {
   "cell_type": "code",
   "execution_count": null,
   "metadata": {
    "collapsed": true
   },
   "outputs": [],
   "source": []
  }
 ],
 "metadata": {
  "kernelspec": {
   "display_name": "Python 3",
   "language": "python",
   "name": "python3"
  },
  "language_info": {
   "codemirror_mode": {
    "name": "ipython",
    "version": 3
   },
   "file_extension": ".py",
   "mimetype": "text/x-python",
   "name": "python",
   "nbconvert_exporter": "python",
   "pygments_lexer": "ipython3",
   "version": "3.6.3"
  }
 },
 "nbformat": 4,
 "nbformat_minor": 2
}
