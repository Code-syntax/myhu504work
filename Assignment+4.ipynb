{
 "cells": [
  {
   "cell_type": "code",
   "execution_count": 1,
   "metadata": {},
   "outputs": [
    {
     "name": "stdout",
     "output_type": "stream",
     "text": [
      "Jsmith\n"
     ]
    }
   ],
   "source": [
    "First_Name='John'\n",
    "Second_Name='Smith'\n",
    "print(First_Name[0:1]+Second_Name.lower())"
   ]
  },
  {
   "cell_type": "code",
   "execution_count": 2,
   "metadata": {},
   "outputs": [
    {
     "name": "stdout",
     "output_type": "stream",
     "text": [
      "secret\n"
     ]
    }
   ],
   "source": [
    "string='Send eagle cross rainbow entire time'\n",
    "map=string.split()\n",
    "decoded=\"\"\n",
    "for word in map:\n",
    "    decoded+=word[0:1].lower()\n",
    "print(decoded)"
   ]
  },
  {
   "cell_type": "code",
   "execution_count": 3,
   "metadata": {},
   "outputs": [
    {
     "name": "stdout",
     "output_type": "stream",
     "text": [
      "Input message you would like encrypted:\n",
      "apple is big\n",
      "ynnjc gq zge\n"
     ]
    }
   ],
   "source": [
    "#Original encoding\n",
    "from string import ascii_lowercase as Characters\n",
    "\n",
    "def shift(message, offset):\n",
    "    trans = str.maketrans(Characters, Characters[offset:] + Characters[:offset])\n",
    "    return message.lower().translate(trans)\n",
    "\n",
    "print(shift(input(\"Input message you would like encrypted:\\n\"), -2))"
   ]
  },
  {
   "cell_type": "code",
   "execution_count": 4,
   "metadata": {},
   "outputs": [
    {
     "name": "stdout",
     "output_type": "stream",
     "text": [
      "apple is big\n"
     ]
    }
   ],
   "source": [
    "#After decoded\n",
    "def decode(message, offset):\n",
    "    map = message.split()\n",
    "    result=''\n",
    "    for word in map:\n",
    "        for char in word:\n",
    "            code=ord(char)+offset\n",
    "            if code>ord('z'):\n",
    "                code=ord('a')+code-ord('z')-1\n",
    "            result+=chr(code)\n",
    "        result+=' '\n",
    "    return result[:len(result)-1]\n",
    "\n",
    "print(decode(\"ynnjc gq zge\",2))"
   ]
  },
  {
   "cell_type": "code",
   "execution_count": null,
   "metadata": {
    "collapsed": true
   },
   "outputs": [],
   "source": []
  }
 ],
 "metadata": {
  "kernelspec": {
   "display_name": "Python 3",
   "language": "python",
   "name": "python3"
  },
  "language_info": {
   "codemirror_mode": {
    "name": "ipython",
    "version": 3
   },
   "file_extension": ".py",
   "mimetype": "text/x-python",
   "name": "python",
   "nbconvert_exporter": "python",
   "pygments_lexer": "ipython3",
   "version": "3.6.3"
  }
 },
 "nbformat": 4,
 "nbformat_minor": 2
}
